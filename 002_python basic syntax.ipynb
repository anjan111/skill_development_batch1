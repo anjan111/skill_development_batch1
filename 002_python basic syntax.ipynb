{
 "cells": [
  {
   "cell_type": "markdown",
   "metadata": {},
   "source": [
    "### syntax\n",
    "\n",
    "--->> the structure for writing a  program\n",
    "\n",
    "## program \n",
    "\n",
    "--->> Collection of instruction  to do any one specific task\n",
    "\n",
    "## instruction\n",
    "\n",
    "--->> A line of code with in the program \n",
    "\n",
    "--->> There are 2 types of instructions \n",
    "\n",
    "    1. Comments \n",
    "    \n",
    "            --->> An instruction which can't be executables\n",
    "            \n",
    "            --->> programmer can define the comments \n",
    "            \n",
    "            --->> which are used for to give give the brief explanation for each and every statement\n",
    "            \n",
    "            ---->>> single line   #\n",
    "            \n",
    "            ---->>> multiline commnets   ''' '''\n",
    "    \n",
    "    2. Statements\n",
    "    \n",
    "            -->>An instruction which can be executable "
   ]
  },
  {
   "cell_type": "code",
   "execution_count": 1,
   "metadata": {},
   "outputs": [
    {
     "name": "stdout",
     "output_type": "stream",
     "text": [
      "hello\n",
      "hai\n",
      "bye\n"
     ]
    }
   ],
   "source": [
    "# single line commnet \n",
    "'''\n",
    "this \n",
    "is\n",
    "multiline\n",
    "comment\n",
    "'''\n",
    "print \"hello\" # print statement\n",
    "print \"hai\"\n",
    "print \"bye\""
   ]
  },
  {
   "cell_type": "markdown",
   "metadata": {},
   "source": [
    "## keywords \n",
    "\n",
    "--->> Built - in words \n",
    "\n",
    "--->> which are already defined inside of python IDE\n",
    "\n",
    "--->> No of keywords can vary version to version\n",
    "\n",
    "--->> All kewords are available in keyword lib ( kwlist)"
   ]
  },
  {
   "cell_type": "code",
   "execution_count": 2,
   "metadata": {},
   "outputs": [
    {
     "name": "stdout",
     "output_type": "stream",
     "text": [
      "['and', 'as', 'assert', 'break', 'class', 'continue', 'def', 'del', 'elif', 'else', 'except', 'exec', 'finally', 'for', 'from', 'global', 'if', 'import', 'in', 'is', 'lambda', 'not', 'or', 'pass', 'print', 'raise', 'return', 'try', 'while', 'with', 'yield']\n"
     ]
    }
   ],
   "source": [
    "import keyword\n",
    "print keyword.kwlist"
   ]
  },
  {
   "cell_type": "code",
   "execution_count": 3,
   "metadata": {},
   "outputs": [
    {
     "name": "stdout",
     "output_type": "stream",
     "text": [
      "31\n"
     ]
    }
   ],
   "source": [
    "import keyword\n",
    "print len(keyword.kwlist)"
   ]
  },
  {
   "cell_type": "markdown",
   "metadata": {},
   "source": [
    "### identifiers \n",
    "\n",
    "--->>> User defined words \n",
    "\n",
    "--->>> To give the name entities for variables , functions , classes \n",
    "\n",
    "#### Rules \n",
    "\n",
    "--->>> We can use alphabets  a-z / A -Z\n",
    "\n",
    "--->>> we can digits   0 - 9\n",
    "\n",
    "--->>> we can use underscore  _\n",
    "\n",
    "--->>> don't start with digit\n",
    "\n",
    "--->>> don't use keywords\n",
    "\n",
    "--->>> don't use special characters \n",
    "\n",
    "#### variable\n",
    "\n",
    "--->> Which are identifiers , which are used for  to store data in memory loc\n",
    "\n",
    "--->> we don't need to be declare the variable before using it "
   ]
  },
  {
   "cell_type": "code",
   "execution_count": 1,
   "metadata": {},
   "outputs": [
    {
     "name": "stdout",
     "output_type": "stream",
     "text": [
      "123\n"
     ]
    }
   ],
   "source": [
    "var = 123\n",
    "print var"
   ]
  },
  {
   "cell_type": "code",
   "execution_count": 2,
   "metadata": {},
   "outputs": [
    {
     "name": "stdout",
     "output_type": "stream",
     "text": [
      "456\n"
     ]
    }
   ],
   "source": [
    "Va_2 = 456\n",
    "print Va_2"
   ]
  },
  {
   "cell_type": "code",
   "execution_count": 3,
   "metadata": {},
   "outputs": [
    {
     "ename": "SyntaxError",
     "evalue": "invalid syntax (<ipython-input-3-dafc810cc8f1>, line 1)",
     "output_type": "error",
     "traceback": [
      "\u001b[1;36m  File \u001b[1;32m\"<ipython-input-3-dafc810cc8f1>\"\u001b[1;36m, line \u001b[1;32m1\u001b[0m\n\u001b[1;33m    5var = 123\u001b[0m\n\u001b[1;37m       ^\u001b[0m\n\u001b[1;31mSyntaxError\u001b[0m\u001b[1;31m:\u001b[0m invalid syntax\n"
     ]
    }
   ],
   "source": [
    "5var = 123"
   ]
  },
  {
   "cell_type": "code",
   "execution_count": 4,
   "metadata": {},
   "outputs": [
    {
     "ename": "SyntaxError",
     "evalue": "invalid syntax (<ipython-input-4-3e748d594f76>, line 1)",
     "output_type": "error",
     "traceback": [
      "\u001b[1;36m  File \u001b[1;32m\"<ipython-input-4-3e748d594f76>\"\u001b[1;36m, line \u001b[1;32m1\u001b[0m\n\u001b[1;33m    v@r = 123\u001b[0m\n\u001b[1;37m     ^\u001b[0m\n\u001b[1;31mSyntaxError\u001b[0m\u001b[1;31m:\u001b[0m invalid syntax\n"
     ]
    }
   ],
   "source": [
    "v@r = 123"
   ]
  },
  {
   "cell_type": "code",
   "execution_count": 5,
   "metadata": {},
   "outputs": [
    {
     "ename": "SyntaxError",
     "evalue": "invalid syntax (<ipython-input-5-ec3065453a0e>, line 1)",
     "output_type": "error",
     "traceback": [
      "\u001b[1;36m  File \u001b[1;32m\"<ipython-input-5-ec3065453a0e>\"\u001b[1;36m, line \u001b[1;32m1\u001b[0m\n\u001b[1;33m    while  = 123\u001b[0m\n\u001b[1;37m           ^\u001b[0m\n\u001b[1;31mSyntaxError\u001b[0m\u001b[1;31m:\u001b[0m invalid syntax\n"
     ]
    }
   ],
   "source": [
    "while  = 123"
   ]
  },
  {
   "cell_type": "code",
   "execution_count": 6,
   "metadata": {},
   "outputs": [
    {
     "name": "stdout",
     "output_type": "stream",
     "text": [
      "34.5634\n",
      "<type 'float'>\n",
      "77494296\n"
     ]
    }
   ],
   "source": [
    "# id() ---->> to know the memory loc\n",
    "# type() --->> to know the datatype\n",
    "\n",
    "a =34.5634\n",
    "print a\n",
    "print type(a)\n",
    "print id(a)\n"
   ]
  },
  {
   "cell_type": "markdown",
   "metadata": {},
   "source": [
    "### datatypes\n",
    "\n",
    "--->>> To specify the what type of data  holded by variables\n",
    "\n",
    "--->>> There are 2 types\n",
    "\n",
    "1. Fundamental Datatype\n",
    "\n",
    "    --->> A single variaible can hold single data element\n",
    "    \n",
    "    1. int  --->> any real number\n",
    "    \n",
    "    2. float -->> any real pointing number\n",
    "    \n",
    "    3. bool --->> True  / False\n",
    "    \n",
    "    4. complex -->> X + Yj\n",
    "    \n",
    "    5. Nonetype -->> None\n",
    "\n",
    "2. Sequencial Datatype\n",
    "\n",
    "     --->> A single variable can hold multiple data elements\n",
    "     \n",
    "     1. str --->> \"\"\n",
    "     \n",
    "     2. list --->> []\n",
    "     \n",
    "     3. tuple --->> ()\n",
    "     \n",
    "     4. set ---->>> {}\n",
    "     \n",
    "     5. dict ---->>> {}"
   ]
  },
  {
   "cell_type": "code",
   "execution_count": 7,
   "metadata": {},
   "outputs": [
    {
     "name": "stdout",
     "output_type": "stream",
     "text": [
      "<type 'int'>\n",
      "<type 'int'>\n",
      "<type 'int'>\n"
     ]
    }
   ],
   "source": [
    "var = 12\n",
    "print type(var)\n",
    "var = -122\n",
    "print type(var)\n",
    "var = 0\n",
    "print type(var)"
   ]
  },
  {
   "cell_type": "code",
   "execution_count": 8,
   "metadata": {},
   "outputs": [
    {
     "name": "stdout",
     "output_type": "stream",
     "text": [
      "<type 'float'>\n",
      "<type 'float'>\n",
      "<type 'float'>\n"
     ]
    }
   ],
   "source": [
    "var = 12.012\n",
    "print type(var)\n",
    "var = -122.0897\n",
    "print type(var)\n",
    "var = 0.0\n",
    "print type(var)"
   ]
  },
  {
   "cell_type": "code",
   "execution_count": 9,
   "metadata": {},
   "outputs": [
    {
     "name": "stdout",
     "output_type": "stream",
     "text": [
      "<type 'complex'>\n",
      "<type 'complex'>\n",
      "<type 'complex'>\n"
     ]
    }
   ],
   "source": [
    "var = 12 + 34j\n",
    "print type(var)\n",
    "var = -122+3j\n",
    "print type(var)\n",
    "var = 0+0j\n",
    "print type(var)"
   ]
  },
  {
   "cell_type": "code",
   "execution_count": 10,
   "metadata": {},
   "outputs": [
    {
     "name": "stdout",
     "output_type": "stream",
     "text": [
      "<type 'bool'>\n",
      "<type 'bool'>\n",
      "<type 'NoneType'>\n"
     ]
    }
   ],
   "source": [
    "var = True\n",
    "print type(var)\n",
    "var = False\n",
    "print type(var)\n",
    "var = None\n",
    "print type(var)"
   ]
  },
  {
   "cell_type": "code",
   "execution_count": 11,
   "metadata": {},
   "outputs": [
    {
     "name": "stdout",
     "output_type": "stream",
     "text": [
      "<type 'str'>\n",
      "<type 'str'>\n",
      "<type 'str'>\n",
      "<type 'str'>\n"
     ]
    }
   ],
   "source": [
    "var = 'soc'\n",
    "print type(var)\n",
    "var = \"soc\"\n",
    "print type(var)\n",
    "var = '''soc'''\n",
    "print type(var)\n",
    "var = \"\"\"soc\"\"\"\n",
    "print type(var)"
   ]
  },
  {
   "cell_type": "code",
   "execution_count": 12,
   "metadata": {},
   "outputs": [
    {
     "name": "stdout",
     "output_type": "stream",
     "text": [
      "<type 'list'>\n"
     ]
    }
   ],
   "source": [
    "var = [1 , 3.3 , 5+3j]\n",
    "print type(var)"
   ]
  },
  {
   "cell_type": "code",
   "execution_count": 13,
   "metadata": {},
   "outputs": [
    {
     "name": "stdout",
     "output_type": "stream",
     "text": [
      "<type 'tuple'>\n"
     ]
    }
   ],
   "source": [
    "var =(12 , 3.45 ,7 +4j )\n",
    "print type(var)"
   ]
  },
  {
   "cell_type": "code",
   "execution_count": 14,
   "metadata": {},
   "outputs": [
    {
     "name": "stdout",
     "output_type": "stream",
     "text": [
      "<type 'set'>\n"
     ]
    }
   ],
   "source": [
    "var ={12 , 3.45 ,7 +4j }\n",
    "print type(var)"
   ]
  },
  {
   "cell_type": "code",
   "execution_count": 15,
   "metadata": {},
   "outputs": [
    {
     "name": "stdout",
     "output_type": "stream",
     "text": [
      "<type 'dict'>\n"
     ]
    }
   ],
   "source": [
    "# dict is  collection of items \n",
    "# item is combination of key and value\n",
    "var ={12 : \"soc\" , 3.45: 678 ,7 +4j : 34.78}\n",
    "print type(var)"
   ]
  },
  {
   "cell_type": "code",
   "execution_count": null,
   "metadata": {},
   "outputs": [],
   "source": []
  }
 ],
 "metadata": {
  "kernelspec": {
   "display_name": "Python 2",
   "language": "python",
   "name": "python2"
  },
  "language_info": {
   "codemirror_mode": {
    "name": "ipython",
    "version": 2
   },
   "file_extension": ".py",
   "mimetype": "text/x-python",
   "name": "python",
   "nbconvert_exporter": "python",
   "pygments_lexer": "ipython2",
   "version": "2.7.16"
  }
 },
 "nbformat": 4,
 "nbformat_minor": 2
}
