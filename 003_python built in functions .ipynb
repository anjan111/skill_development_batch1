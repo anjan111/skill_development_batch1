{
 "cells": [
  {
   "cell_type": "markdown",
   "metadata": {},
   "source": [
    "### function\n",
    "\n",
    "--->> Collection of statements to do any one specific task\n",
    "\n",
    "--->> There 2 types \n",
    "\n",
    "1. User defined  functions \n",
    "\n",
    "2. Pre defined functions \n",
    "\n",
    "---->>> Which are pre defined functions \n",
    "\n",
    "    1. input functions \n",
    "    \n",
    "        --->> to read the data from keyboard\n",
    "        \n",
    "        1. raw_input()\n",
    "        \n",
    "        2. input()\n",
    "    \n",
    "    2. Out put dunctions \n",
    "    \n",
    "        --->> To display the data on monitor\n",
    "        \n",
    "        1. print  statement\n",
    "        \n",
    "        2. print(fuction)\n",
    "    \n",
    "    3. type & id functions\n",
    "    \n",
    "        type() --->>> to know the datatype\n",
    "        \n",
    "        id() ----->>> to know the memory loc"
   ]
  },
  {
   "cell_type": "code",
   "execution_count": 1,
   "metadata": {},
   "outputs": [
    {
     "name": "stdout",
     "output_type": "stream",
     "text": [
      "enter int : 789\n",
      "789\n",
      "<type 'int'>\n",
      "65696160\n",
      "enter int : 789\n",
      "789\n",
      "<type 'str'>\n",
      "72476232\n"
     ]
    }
   ],
   "source": [
    "# wap show the difference between input & raw_input while enter int \n",
    "a = input(\"enter int : \")\n",
    "print a\n",
    "print type(a)\n",
    "print id(a)\n",
    "a = raw_input(\"enter int : \")\n",
    "print a\n",
    "print type(a)\n",
    "print id(a)\n"
   ]
  },
  {
   "cell_type": "code",
   "execution_count": 2,
   "metadata": {},
   "outputs": [
    {
     "name": "stdout",
     "output_type": "stream",
     "text": [
      "enter float : 78.89\n",
      "78.89\n",
      "<type 'float'>\n",
      "65705808\n",
      "enter float : 78.89\n",
      "78.89\n",
      "<type 'str'>\n",
      "66399688\n"
     ]
    }
   ],
   "source": [
    "# wap show the difference between input & raw_input while enter float\n",
    "a = input(\"enter float : \")\n",
    "print a\n",
    "print type(a)\n",
    "print id(a)\n",
    "a = raw_input(\"enter float : \")\n",
    "print a\n",
    "print type(a)\n",
    "print id(a)\n"
   ]
  },
  {
   "cell_type": "code",
   "execution_count": 3,
   "metadata": {},
   "outputs": [],
   "source": [
    "# wap show the difference between input & raw_input while enter complex"
   ]
  },
  {
   "cell_type": "code",
   "execution_count": 4,
   "metadata": {},
   "outputs": [],
   "source": [
    "# wap show the difference between input & raw_input while enter bool"
   ]
  },
  {
   "cell_type": "code",
   "execution_count": 5,
   "metadata": {},
   "outputs": [],
   "source": [
    "# wap show the difference between input & raw_input while enter Nonetype"
   ]
  },
  {
   "cell_type": "code",
   "execution_count": 6,
   "metadata": {},
   "outputs": [],
   "source": [
    "# wap show the difference between input & raw_input while enter str"
   ]
  },
  {
   "cell_type": "code",
   "execution_count": 7,
   "metadata": {},
   "outputs": [],
   "source": [
    "# wap show the difference between input & raw_input while enter list"
   ]
  },
  {
   "cell_type": "code",
   "execution_count": 8,
   "metadata": {},
   "outputs": [],
   "source": [
    "# wap show the difference between input & raw_input while enter tuple"
   ]
  },
  {
   "cell_type": "code",
   "execution_count": 9,
   "metadata": {},
   "outputs": [],
   "source": [
    "# wap show the difference between input & raw_input while enter set"
   ]
  },
  {
   "cell_type": "code",
   "execution_count": null,
   "metadata": {},
   "outputs": [],
   "source": [
    "# wap show the difference between input & raw_input while enter dict"
   ]
  },
  {
   "cell_type": "markdown",
   "metadata": {},
   "source": [
    "### datatype conversion functions\n",
    "\n",
    "---->>to convert from one datatype to another anothers\n",
    "\n",
    "---->> int()\n",
    "\n",
    "---->> float()\n",
    "\n",
    "--->> complex()\n",
    "\n",
    "--->> bool()\n",
    "\n",
    "--->> str()\n",
    "\n",
    "--->> list()\n",
    "\n",
    "--->> tuple()\n",
    "\n",
    "--->> set()\n",
    "\n",
    "--->> dict()\n",
    "\n",
    "--->>> not only for converting one datatype to another  datatype\n",
    "\n",
    "--->> which can also used whenever we are using raw_input function"
   ]
  },
  {
   "cell_type": "code",
   "execution_count": 1,
   "metadata": {},
   "outputs": [
    {
     "name": "stdout",
     "output_type": "stream",
     "text": [
      "enter int : 456\n",
      "data in var  456\n",
      "<type 'str'>\n",
      "memory loc :  82020952\n",
      "data in var  456\n",
      "<type 'int'>\n",
      "memory loc :  72853224\n"
     ]
    }
   ],
   "source": [
    "# wap read int data using raw_input function and for conversion use int()\n",
    "var = raw_input(\"enter int : \")\n",
    "print \"data in var \",var\n",
    "print type(var)\n",
    "print \"memory loc : \",id(var)\n",
    "var = int(var) # str_int ---->> int() --->> int\n",
    "print \"data in var \",var\n",
    "print type(var)\n",
    "print \"memory loc : \",id(var)"
   ]
  },
  {
   "cell_type": "code",
   "execution_count": 2,
   "metadata": {},
   "outputs": [
    {
     "name": "stdout",
     "output_type": "stream",
     "text": [
      "enter int : 78.9845\n",
      "data in var  78.9845\n",
      "<type 'str'>\n",
      "memory loc :  82021832\n",
      "data in var  78.9845\n",
      "<type 'float'>\n",
      "memory loc :  75156488\n"
     ]
    }
   ],
   "source": [
    "# wap read float data using raw_input function and for conversion use float()\n",
    "var = raw_input(\"enter int : \")\n",
    "print \"data in var \",var\n",
    "print type(var)\n",
    "print \"memory loc : \",id(var)\n",
    "var = float(var) # str_float ---->> float() --->> float\n",
    "print \"data in var \",var\n",
    "print type(var)\n",
    "print \"memory loc : \",id(var)"
   ]
  },
  {
   "cell_type": "code",
   "execution_count": 3,
   "metadata": {},
   "outputs": [
    {
     "name": "stdout",
     "output_type": "stream",
     "text": [
      "enter complex : 7+3j\n",
      "data in var  7+3j\n",
      "<type 'str'>\n",
      "memory loc :  75599784\n",
      "data in var  (7+3j)\n",
      "<type 'complex'>\n",
      "memory loc :  75667440\n"
     ]
    }
   ],
   "source": [
    "# wap read complea data using raw_input function and for conversion use complex()\n",
    "var = raw_input(\"enter complex : \")\n",
    "print \"data in var \",var\n",
    "print type(var)\n",
    "print \"memory loc : \",id(var)\n",
    "var = complex(var) # str_complex ---->> complex() --->> complex\n",
    "print \"data in var \",var\n",
    "print type(var)\n",
    "print \"memory loc : \",id(var)"
   ]
  },
  {
   "cell_type": "code",
   "execution_count": 4,
   "metadata": {},
   "outputs": [],
   "source": [
    "# wap read bool data using raw_input function and for conversion use bool()\n",
    "# wap read list data using raw_input function and for conversion use list()\n",
    "# wap read tuple data using raw_input function and for conversion use tuple()\n",
    "# wap read set data using raw_input function and for conversion use set()\n",
    "# wap read dict data using raw_input function and for conversion use dict()"
   ]
  },
  {
   "cell_type": "code",
   "execution_count": 15,
   "metadata": {},
   "outputs": [
    {
     "name": "stdout",
     "output_type": "stream",
     "text": [
      "enter any data : None\n",
      "data in var  None\n",
      "<type 'NoneType'>\n",
      "memory loc :  1569918072\n"
     ]
    },
    {
     "ename": "TypeError",
     "evalue": "int() argument must be a string or a number, not 'NoneType'",
     "output_type": "error",
     "traceback": [
      "\u001b[1;31m---------------------------------------------------------------------------\u001b[0m",
      "\u001b[1;31mTypeError\u001b[0m                                 Traceback (most recent call last)",
      "\u001b[1;32m<ipython-input-15-95013c5c6a51>\u001b[0m in \u001b[0;36m<module>\u001b[1;34m()\u001b[0m\n\u001b[0;32m     13\u001b[0m \u001b[1;32mprint\u001b[0m \u001b[0mtype\u001b[0m\u001b[1;33m(\u001b[0m\u001b[0mvar\u001b[0m\u001b[1;33m)\u001b[0m\u001b[1;33m\u001b[0m\u001b[0m\n\u001b[0;32m     14\u001b[0m \u001b[1;32mprint\u001b[0m \u001b[1;34m\"memory loc : \"\u001b[0m\u001b[1;33m,\u001b[0m\u001b[0mid\u001b[0m\u001b[1;33m(\u001b[0m\u001b[0mvar\u001b[0m\u001b[1;33m)\u001b[0m\u001b[1;33m\u001b[0m\u001b[0m\n\u001b[1;32m---> 15\u001b[1;33m \u001b[0mvar\u001b[0m \u001b[1;33m=\u001b[0m \u001b[0mint\u001b[0m\u001b[1;33m(\u001b[0m\u001b[0mvar\u001b[0m\u001b[1;33m)\u001b[0m \u001b[1;31m# any datatype  ---->> int() --->> int\u001b[0m\u001b[1;33m\u001b[0m\u001b[0m\n\u001b[0m\u001b[0;32m     16\u001b[0m \u001b[1;32mprint\u001b[0m \u001b[1;34m\"data in var \"\u001b[0m\u001b[1;33m,\u001b[0m\u001b[0mvar\u001b[0m\u001b[1;33m\u001b[0m\u001b[0m\n\u001b[0;32m     17\u001b[0m \u001b[1;32mprint\u001b[0m \u001b[0mtype\u001b[0m\u001b[1;33m(\u001b[0m\u001b[0mvar\u001b[0m\u001b[1;33m)\u001b[0m\u001b[1;33m\u001b[0m\u001b[0m\n",
      "\u001b[1;31mTypeError\u001b[0m: int() argument must be a string or a number, not 'NoneType'"
     ]
    }
   ],
   "source": [
    "# float  --->> int() --> int --->> Yeah \n",
    "# complex --->> int() -->int --->> No\n",
    "# bool  ----->> int() --> int -->. Yeah\n",
    "# str  ------>> int()  --> int -->> based on value ( only string int )\n",
    "# list ------>> int()  --> int --->> No\n",
    "# tuple------>> int()  --> int ---> NO\n",
    "# set------>> int()  --> int ----> No \n",
    "# dict------>> int()  --> int---> No\n",
    "# None------>> int()  --> int --> No\n",
    "\n",
    "var = input(\"enter any data : \")\n",
    "print \"data in var \",var\n",
    "print type(var)\n",
    "print \"memory loc : \",id(var)\n",
    "var = int(var) # any datatype  ---->> int() --->> int\n",
    "print \"data in var \",var\n",
    "print type(var)\n",
    "print \"memory loc : \",id(var)"
   ]
  },
  {
   "cell_type": "code",
   "execution_count": null,
   "metadata": {},
   "outputs": [],
   "source": [
    "# int  --->> float() --->> float\n",
    "# complex --->> float() --->> float\n",
    "# bool  --->> float() --->> float\n",
    "# str  --->> float() --->> float\n",
    "# list --->> float() --->> float\n",
    "# tuple--->> float() --->> float\n",
    "# set---->> float() --->> float\n",
    "# dict--->> float() --->> float\n",
    "# None--->> float() --->> float\n",
    "\n",
    "var = input(\"enter any data : \")\n",
    "print \"data in var \",var\n",
    "print type(var)\n",
    "print \"memory loc : \",id(var)\n",
    "var = flaot(var) # any datatype  ---->>float() --->> float\n",
    "print \"data in var \",var\n",
    "print type(var)\n",
    "print \"memory loc : \",id(var)"
   ]
  },
  {
   "cell_type": "code",
   "execution_count": 15,
   "metadata": {},
   "outputs": [
    {
     "name": "stdout",
     "output_type": "stream",
     "text": [
      "173\n",
      "83\n",
      "506\n"
     ]
    }
   ],
   "source": [
    "# Number system conversion\n",
    "# int() ---->> to convert  from any NS to Decimal\n",
    "\n",
    "bin1 = 0b10101101\n",
    "print bin1\n",
    "oct1 = 0o123\n",
    "print oct1\n",
    "hex1 = 0x1fA\n",
    "print hex1"
   ]
  },
  {
   "cell_type": "code",
   "execution_count": 17,
   "metadata": {},
   "outputs": [
    {
     "name": "stdout",
     "output_type": "stream",
     "text": [
      "0b10101101\n",
      "173\n"
     ]
    }
   ],
   "source": [
    "bin1 = '0b10101101'\n",
    "print bin1\n",
    "bin1 = int(bin1,2)\n",
    "print bin1\n"
   ]
  },
  {
   "cell_type": "code",
   "execution_count": 18,
   "metadata": {},
   "outputs": [
    {
     "name": "stdout",
     "output_type": "stream",
     "text": [
      "0o123\n",
      "83\n"
     ]
    }
   ],
   "source": [
    "oct1 = '0o123'\n",
    "print oct1\n",
    "oct1 = int(oct1,8)\n",
    "print oct1"
   ]
  },
  {
   "cell_type": "code",
   "execution_count": 19,
   "metadata": {},
   "outputs": [
    {
     "name": "stdout",
     "output_type": "stream",
     "text": [
      "0X1F2A3\n",
      "127651\n"
     ]
    }
   ],
   "source": [
    "hex1= '0X1F2A3'\n",
    "print hex1\n",
    "hex1 = int(hex1,16)\n",
    "print hex1"
   ]
  },
  {
   "cell_type": "code",
   "execution_count": 3,
   "metadata": {
    "scrolled": true
   },
   "outputs": [
    {
     "name": "stdout",
     "output_type": "stream",
     "text": [
      "234\n",
      "0b11101010\n"
     ]
    }
   ],
   "source": [
    "### bin() --->> any NS to binary number system\n",
    "dec = 234\n",
    "print dec\n",
    "bin1 = bin(dec)\n",
    "print bin1"
   ]
  },
  {
   "cell_type": "code",
   "execution_count": 13,
   "metadata": {},
   "outputs": [
    {
     "name": "stdout",
     "output_type": "stream",
     "text": [
      "0234\n",
      "0b10011100\n"
     ]
    }
   ],
   "source": [
    "oct1 = 0o234\n",
    "print oct(oct1)\n",
    "bin1 = bin(oct1)\n",
    "print bin1"
   ]
  },
  {
   "cell_type": "code",
   "execution_count": 12,
   "metadata": {},
   "outputs": [
    {
     "name": "stdout",
     "output_type": "stream",
     "text": [
      "0x2f34\n",
      "0b10111100110100\n"
     ]
    }
   ],
   "source": [
    "hexa = 0X2F34\n",
    "print hex(hexa)\n",
    "bin1 = bin(hexa)\n",
    "print bin1"
   ]
  },
  {
   "cell_type": "code",
   "execution_count": 14,
   "metadata": {},
   "outputs": [
    {
     "name": "stdout",
     "output_type": "stream",
     "text": [
      "0b101001010\n",
      "0512\n"
     ]
    }
   ],
   "source": [
    "# Any number system to octal number system\n",
    "# oct()\n",
    "bin1 = 0b101001010\n",
    "print bin(bin1)\n",
    "oct1 =oct(bin1)\n",
    "print oct1"
   ]
  },
  {
   "cell_type": "code",
   "execution_count": 15,
   "metadata": {},
   "outputs": [
    {
     "name": "stdout",
     "output_type": "stream",
     "text": [
      "2345\n",
      "04451\n"
     ]
    }
   ],
   "source": [
    "dec = 2345\n",
    "print dec\n",
    "oct1 = oct(dec)\n",
    "print oct1"
   ]
  },
  {
   "cell_type": "code",
   "execution_count": 16,
   "metadata": {},
   "outputs": [
    {
     "name": "stdout",
     "output_type": "stream",
     "text": [
      "0x12af\n",
      "011257\n"
     ]
    }
   ],
   "source": [
    "hexa = 0x12af\n",
    "print hex(hexa)\n",
    "oct1 = oct(hexa)\n",
    "print oct1\n"
   ]
  },
  {
   "cell_type": "code",
   "execution_count": 17,
   "metadata": {},
   "outputs": [
    {
     "name": "stdout",
     "output_type": "stream",
     "text": [
      "234\n",
      "0xea\n"
     ]
    }
   ],
   "source": [
    "# any number system to hexa decimal number system\n",
    "dec = 234\n",
    "print dec\n",
    "hexa = hex(dec)\n",
    "print hexa"
   ]
  },
  {
   "cell_type": "code",
   "execution_count": 18,
   "metadata": {},
   "outputs": [
    {
     "name": "stdout",
     "output_type": "stream",
     "text": [
      "0b10100101\n",
      "0xa5\n"
     ]
    }
   ],
   "source": [
    "bin1 = 0b10100101\n",
    "print bin(bin1)\n",
    "hexa = hex(bin1)\n",
    "print hexa"
   ]
  },
  {
   "cell_type": "code",
   "execution_count": 19,
   "metadata": {},
   "outputs": [
    {
     "name": "stdout",
     "output_type": "stream",
     "text": [
      "0123\n",
      "0x53\n"
     ]
    }
   ],
   "source": [
    "oct1 = 0o123\n",
    "print oct(oct1)\n",
    "hexa = hex(oct1)\n",
    "print hexa"
   ]
  },
  {
   "cell_type": "code",
   "execution_count": null,
   "metadata": {},
   "outputs": [],
   "source": []
  }
 ],
 "metadata": {
  "kernelspec": {
   "display_name": "Python 2",
   "language": "python",
   "name": "python2"
  },
  "language_info": {
   "codemirror_mode": {
    "name": "ipython",
    "version": 2
   },
   "file_extension": ".py",
   "mimetype": "text/x-python",
   "name": "python",
   "nbconvert_exporter": "python",
   "pygments_lexer": "ipython2",
   "version": "2.7.16"
  }
 },
 "nbformat": 4,
 "nbformat_minor": 2
}
