{
 "cells": [
  {
   "cell_type": "markdown",
   "metadata": {},
   "source": [
    "### function\n",
    "\n",
    "--->> Collection of statements to do any one specific task\n",
    "\n",
    "--->> There 2 types \n",
    "\n",
    "1. User defined  functions \n",
    "\n",
    "2. Pre defined functions \n",
    "\n",
    "---->>> Which are pre defined functions \n",
    "\n",
    "    1. input functions \n",
    "    \n",
    "        --->> to read the data from keyboard\n",
    "        \n",
    "        1. raw_input()\n",
    "        \n",
    "        2. input()\n",
    "    \n",
    "    2. Out put dunctions \n",
    "    \n",
    "        --->> To display the data on monitor\n",
    "        \n",
    "        1. print  statement\n",
    "        \n",
    "        2. print(fuction)\n",
    "    \n",
    "    3. type & id functions\n",
    "    \n",
    "        type() --->>> to know the datatype\n",
    "        \n",
    "        id() ----->>> to know the memory loc"
   ]
  },
  {
   "cell_type": "code",
   "execution_count": 1,
   "metadata": {},
   "outputs": [
    {
     "name": "stdout",
     "output_type": "stream",
     "text": [
      "enter int : 789\n",
      "789\n",
      "<type 'int'>\n",
      "65696160\n",
      "enter int : 789\n",
      "789\n",
      "<type 'str'>\n",
      "72476232\n"
     ]
    }
   ],
   "source": [
    "# wap show the difference between input & raw_input while enter int \n",
    "a = input(\"enter int : \")\n",
    "print a\n",
    "print type(a)\n",
    "print id(a)\n",
    "a = raw_input(\"enter int : \")\n",
    "print a\n",
    "print type(a)\n",
    "print id(a)\n"
   ]
  },
  {
   "cell_type": "code",
   "execution_count": 2,
   "metadata": {},
   "outputs": [
    {
     "name": "stdout",
     "output_type": "stream",
     "text": [
      "enter float : 78.89\n",
      "78.89\n",
      "<type 'float'>\n",
      "65705808\n",
      "enter float : 78.89\n",
      "78.89\n",
      "<type 'str'>\n",
      "66399688\n"
     ]
    }
   ],
   "source": [
    "# wap show the difference between input & raw_input while enter float\n",
    "a = input(\"enter float : \")\n",
    "print a\n",
    "print type(a)\n",
    "print id(a)\n",
    "a = raw_input(\"enter float : \")\n",
    "print a\n",
    "print type(a)\n",
    "print id(a)\n"
   ]
  },
  {
   "cell_type": "code",
   "execution_count": 3,
   "metadata": {},
   "outputs": [],
   "source": [
    "# wap show the difference between input & raw_input while enter complex"
   ]
  },
  {
   "cell_type": "code",
   "execution_count": 4,
   "metadata": {},
   "outputs": [],
   "source": [
    "# wap show the difference between input & raw_input while enter bool"
   ]
  },
  {
   "cell_type": "code",
   "execution_count": 5,
   "metadata": {},
   "outputs": [],
   "source": [
    "# wap show the difference between input & raw_input while enter Nonetype"
   ]
  },
  {
   "cell_type": "code",
   "execution_count": 6,
   "metadata": {},
   "outputs": [],
   "source": [
    "# wap show the difference between input & raw_input while enter str"
   ]
  },
  {
   "cell_type": "code",
   "execution_count": 7,
   "metadata": {},
   "outputs": [],
   "source": [
    "# wap show the difference between input & raw_input while enter list"
   ]
  },
  {
   "cell_type": "code",
   "execution_count": 8,
   "metadata": {},
   "outputs": [],
   "source": [
    "# wap show the difference between input & raw_input while enter tuple"
   ]
  },
  {
   "cell_type": "code",
   "execution_count": 9,
   "metadata": {},
   "outputs": [],
   "source": [
    "# wap show the difference between input & raw_input while enter set"
   ]
  },
  {
   "cell_type": "code",
   "execution_count": null,
   "metadata": {},
   "outputs": [],
   "source": [
    "# wap show the difference between input & raw_input while enter dict"
   ]
  }
 ],
 "metadata": {
  "kernelspec": {
   "display_name": "Python 2",
   "language": "python",
   "name": "python2"
  },
  "language_info": {
   "codemirror_mode": {
    "name": "ipython",
    "version": 2
   },
   "file_extension": ".py",
   "mimetype": "text/x-python",
   "name": "python",
   "nbconvert_exporter": "python",
   "pygments_lexer": "ipython2",
   "version": "2.7.16"
  }
 },
 "nbformat": 4,
 "nbformat_minor": 2
}
